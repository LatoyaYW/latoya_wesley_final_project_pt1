{
 "cells": [
  {
   "cell_type": "markdown",
   "metadata": {},
   "source": [
    "Final Project: Part 1"
   ]
  },
  {
   "cell_type": "markdown",
   "metadata": {},
   "source": [
    "Problem Statement: \n",
    "\n",
    "The District of Columbia Metropolitan Police Department (MPD) reported 33,890 crime incidents in 2018, nearly 700 more incidents than in the prior year. To reduce the rate of crime in the District, MPD studies the crime trends each year to determine when and where most crimes are happening. Their goal is to strategically target high crime areas with crime prevention strategis that are relevant to the crimes committed. This project involves developing a model to identify whether requests for city services is a predictor of the types of crimes happening.\n",
    "\n",
    "Target Variable: The number of incidents of crimes (by category)\n",
    "\n",
    "Feature set: Service Type, Organization, Priority, Ward, Zip Code, Offense, Method, Shift/Time of Day\n",
    "\n",
    "Goals and Success Metrics:\n",
    "\n",
    "The goal is to be able to understand the extent to which certain types of service calls predict the type of crime happening in a certain area, with the measure of success being a relatively accurate prediction of crime incidents in a neighborhood given a certain (or set of) offense type(s).\n",
    "\n",
    "Risks and Limitations:\n",
    "\n",
    "The analysis risks under estimating the correlation between service calls and crimes reported due to the small geographic area with people visiting from multiple jurisdictions for work and recreation. One might miss the crimes that are happening right over the border with an adjacent jurisdiction.\n",
    "\n",
    "The analysis also does not take into account the present disparities in provision of city services based on neighborhood, nor does it take into account areas with high homeownership versus high rentership."
   ]
  },
  {
   "cell_type": "code",
   "execution_count": 1,
   "metadata": {},
   "outputs": [],
   "source": [
    "# Import libraries\n",
    "import matplotlib.pyplot as plt\n",
    "import numpy as np\n",
    "import pandas as pd\n",
    "import seaborn as sns"
   ]
  },
  {
   "cell_type": "code",
   "execution_count": 2,
   "metadata": {},
   "outputs": [],
   "source": [
    "%matplotlib inline"
   ]
  },
  {
   "cell_type": "code",
   "execution_count": null,
   "metadata": {},
   "outputs": [],
   "source": []
  }
 ],
 "metadata": {
  "kernelspec": {
   "display_name": "Python 3",
   "language": "python",
   "name": "python3"
  },
  "language_info": {
   "codemirror_mode": {
    "name": "ipython",
    "version": 3
   },
   "file_extension": ".py",
   "mimetype": "text/x-python",
   "name": "python",
   "nbconvert_exporter": "python",
   "pygments_lexer": "ipython3",
   "version": "3.7.3"
  }
 },
 "nbformat": 4,
 "nbformat_minor": 2
}
